{
 "cells": [
  {
   "cell_type": "code",
   "execution_count": 4,
   "metadata": {},
   "outputs": [],
   "source": [
    "library(readr) \n",
    "library(kernlab)\n",
    "library(caret)"
   ]
  },
  {
   "cell_type": "markdown",
   "metadata": {},
   "source": [
    "### A function to load multiple .CSV files from a directory"
   ]
  },
  {
   "cell_type": "code",
   "execution_count": 5,
   "metadata": {},
   "outputs": [],
   "source": [
    "loadData<-function(dirPath){ \n",
    "  fileList <- list.files(dirPath, pattern=\".csv\",full.names = TRUE)\n",
    "  for (eachFile in fileList){\n",
    "    if (!exists(\"tmpDataset\")){\n",
    "      tmpDataset <- read.csv(eachFile,header = T)\n",
    "    } else if (exists(\"tmpDataset\")){\n",
    "      tempData <-read.csv(eachFile,header = T)\n",
    "      tmpDataset<-rbind(tmpDataset, tempData)\n",
    "    }}\n",
    "  return(tmpDataset)\n",
    "}"
   ]
  },
  {
   "cell_type": "markdown",
   "metadata": {},
   "source": [
    "### Load the data from local storage"
   ]
  },
  {
   "cell_type": "code",
   "execution_count": 6,
   "metadata": {},
   "outputs": [
    {
     "name": "stderr",
     "output_type": "stream",
     "text": [
      "Parsed with column specification:\n",
      "cols(\n",
      "  .default = col_double()\n",
      ")\n",
      "See spec(...) for full column specifications.\n"
     ]
    }
   ],
   "source": [
    "benginDataset<- read_csv(\"1.benign.csv\")\n",
    "\n"
   ]
  },
  {
   "cell_type": "code",
   "execution_count": 7,
   "metadata": {},
   "outputs": [],
   "source": [
    "gafgytDataset<-loadData(\"gafgyt_attacks\")\n"
   ]
  },
  {
   "cell_type": "code",
   "execution_count": 8,
   "metadata": {},
   "outputs": [],
   "source": [
    "miraiDataset<-loadData(\"mirai_attacks\")"
   ]
  },
  {
   "cell_type": "markdown",
   "metadata": {},
   "source": [
    "### Removing records in the dataset that contain NAs"
   ]
  },
  {
   "cell_type": "code",
   "execution_count": 9,
   "metadata": {},
   "outputs": [],
   "source": [
    "\n",
    "benginDataset<-benginDataset[complete.cases(benginDataset), ]\n",
    "gafgytDataset<-gafgytDataset[complete.cases(gafgytDataset), ]\n",
    "miraiDataset<-miraiDataset[complete.cases(miraiDataset), ]\n"
   ]
  },
  {
   "cell_type": "markdown",
   "metadata": {},
   "source": [
    "### Adding labels to the data"
   ]
  },
  {
   "cell_type": "code",
   "execution_count": 10,
   "metadata": {},
   "outputs": [],
   "source": [
    "benginDataset$Type<-TRUE\n",
    "gafgytDataset$Type<-FALSE\n",
    "miraiDataset$Type<-FALSE"
   ]
  },
  {
   "cell_type": "markdown",
   "metadata": {},
   "source": [
    "### Creating training set and test set"
   ]
  },
  {
   "cell_type": "code",
   "execution_count": 11,
   "metadata": {},
   "outputs": [],
   "source": [
    "index <- 1:nrow(benginDataset)\n",
    "testIndex <- sample(index, trunc(length(index)*20/100))\n",
    "testSetBen <- benginDataset[testIndex,] # Create the Benign class for testing\n",
    "testSet <- rbind(gafgytDataset,miraiDataset,testSetBen) # Pool the benign test instances with malicious instances to create the final testing dataset\n"
   ]
  },
  {
   "cell_type": "code",
   "execution_count": 12,
   "metadata": {},
   "outputs": [],
   "source": [
    "trainSet <- benginDataset[-testIndex,] # Create the training set, this set contains benign instances only"
   ]
  },
  {
   "cell_type": "markdown",
   "metadata": {},
   "source": [
    "### R code snippet for training the OCSVM"
   ]
  },
  {
   "cell_type": "code",
   "execution_count": 13,
   "metadata": {},
   "outputs": [
    {
     "name": "stdout",
     "output_type": "stream",
     "text": [
      "Support Vector Machine object of class \"ksvm\" \n",
      "\n",
      "SV type: one-svc  (novelty detection) \n",
      " parameter : nu = 0.2 \n",
      "\n",
      "Gaussian Radial Basis kernel function. \n",
      " Hyperparameter : sigma =  0.108626664437796 \n",
      "\n",
      "Number of Support Vectors : 7957 \n",
      "\n",
      "Objective Function Value : 569936.6 \n",
      "Training error : 0.200156 \n"
     ]
    }
   ],
   "source": [
    "fit <- ksvm(Type~., data=trainSet, type=\"one-svc\", kernel=\"rbfdot\", kpar=\"automatic\")\n",
    "print(fit) # To print model details"
   ]
  },
  {
   "cell_type": "markdown",
   "metadata": {},
   "source": [
    "### Model Evaluation"
   ]
  },
  {
   "cell_type": "code",
   "execution_count": 14,
   "metadata": {},
   "outputs": [],
   "source": [
    "predictions <- predict(fit, testSet[,1:(ncol(testSet)-1)], type=\"response\") # make predictions"
   ]
  },
  {
   "cell_type": "code",
   "execution_count": 15,
   "metadata": {},
   "outputs": [
    {
     "data": {
      "text/plain": [
       "Confusion Matrix and Statistics\n",
       "\n",
       "          Reference\n",
       "Prediction  FALSE   TRUE\n",
       "     FALSE 725065   2002\n",
       "     TRUE       0   7907\n",
       "                                          \n",
       "               Accuracy : 0.9973          \n",
       "                 95% CI : (0.9972, 0.9974)\n",
       "    No Information Rate : 0.9865          \n",
       "    P-Value [Acc > NIR] : < 2.2e-16       \n",
       "                                          \n",
       "                  Kappa : 0.8863          \n",
       "                                          \n",
       " Mcnemar's Test P-Value : < 2.2e-16       \n",
       "                                          \n",
       "            Sensitivity : 1.0000          \n",
       "            Specificity : 0.7980          \n",
       "         Pos Pred Value : 0.9972          \n",
       "         Neg Pred Value : 1.0000          \n",
       "             Prevalence : 0.9865          \n",
       "         Detection Rate : 0.9865          \n",
       "   Detection Prevalence : 0.9892          \n",
       "      Balanced Accuracy : 0.8990          \n",
       "                                          \n",
       "       'Positive' Class : FALSE           \n",
       "                                          "
      ]
     },
     "metadata": {},
     "output_type": "display_data"
    }
   ],
   "source": [
    "confusionMatrix(data=as.factor(predictions),reference=as.factor(testSet$Type))"
   ]
  },
  {
   "cell_type": "markdown",
   "metadata": {},
   "source": [
    "### Remove any previously installed H2O packages for R."
   ]
  },
  {
   "cell_type": "code",
   "execution_count": 16,
   "metadata": {},
   "outputs": [
    {
     "name": "stderr",
     "output_type": "stream",
     "text": [
      "Removing package from 'C:/Users/harsh/anaconda3/envs/my new env/Lib/R/library'\n",
      "(as 'lib' is unspecified)\n"
     ]
    }
   ],
   "source": [
    "if (\"package:h2o\" %in% search()) { detach(\"package:h2o\", unload=TRUE) }\n",
    "if (\"h2o\" %in% rownames(installed.packages())) { remove.packages(\"h2o\") }"
   ]
  },
  {
   "cell_type": "markdown",
   "metadata": {},
   "source": [
    "### Download, install and initialize the H2O package for R."
   ]
  },
  {
   "cell_type": "code",
   "execution_count": 17,
   "metadata": {},
   "outputs": [],
   "source": [
    "pkgs <- c(\"RCurl\",\"jsonlite\")\n",
    "for (pkg in pkgs) {\n",
    "  if (! (pkg %in% rownames(installed.packages()))) { install.packages(pkg) }\n",
    "}"
   ]
  },
  {
   "cell_type": "code",
   "execution_count": 18,
   "metadata": {},
   "outputs": [],
   "source": [
    "install.packages(\"h2o\", type=\"source\", repos=(c(\"http://h2o-release.s3.amazonaws.com/h2o/latest_stable_R\")))"
   ]
  },
  {
   "cell_type": "code",
   "execution_count": 19,
   "metadata": {},
   "outputs": [
    {
     "name": "stderr",
     "output_type": "stream",
     "text": [
      "\n",
      "----------------------------------------------------------------------\n",
      "\n",
      "Your next step is to start H2O:\n",
      "    > h2o.init()\n",
      "\n",
      "For H2O package documentation, ask for help:\n",
      "    > ??h2o\n",
      "\n",
      "After starting H2O, you can use the Web UI at http://localhost:54321\n",
      "For more information visit https://docs.h2o.ai\n",
      "\n",
      "----------------------------------------------------------------------\n",
      "\n",
      "\n",
      "Attaching package: 'h2o'\n",
      "\n",
      "The following objects are masked from 'package:stats':\n",
      "\n",
      "    cor, sd, var\n",
      "\n",
      "The following objects are masked from 'package:base':\n",
      "\n",
      "    %*%, %in%, &&, ||, apply, as.factor, as.numeric, colnames,\n",
      "    colnames<-, ifelse, is.character, is.factor, is.numeric, log,\n",
      "    log10, log1p, log2, round, signif, trunc\n",
      "\n"
     ]
    },
    {
     "name": "stdout",
     "output_type": "stream",
     "text": [
      " Connection successful!\n",
      "\n",
      "R is connected to the H2O cluster: \n",
      "    H2O cluster uptime:         3 days 6 hours \n",
      "    H2O cluster timezone:       Asia/Kolkata \n",
      "    H2O data parsing timezone:  UTC \n",
      "    H2O cluster version:        3.34.0.4 \n",
      "    H2O cluster version age:    14 days, 20 hours and 33 minutes  \n",
      "    H2O cluster name:           H2O_started_from_R_harsh_lqz504 \n",
      "    H2O cluster total nodes:    1 \n",
      "    H2O cluster total memory:   1.53 GB \n",
      "    H2O cluster total cores:    8 \n",
      "    H2O cluster allowed cores:  8 \n",
      "    H2O cluster healthy:        TRUE \n",
      "    H2O Connection ip:          localhost \n",
      "    H2O Connection port:        54321 \n",
      "    H2O Connection proxy:       NA \n",
      "    H2O Internal Security:      FALSE \n",
      "    H2O API Extensions:         Amazon S3, Algos, AutoML, Core V3, TargetEncoder, Core V4 \n",
      "    R Version:                  R version 3.6.1 (2019-07-05) \n",
      "\n",
      "\n",
      "\n",
      "\tdemo(h2o.kmeans)\n",
      "\t---- ~~~~~~~~~~\n",
      "\n",
      "> # This is a demo of H2O's K-Means function\n",
      "> # It imports a data set, parses it, and prints a summary\n",
      "> # Then, it runs K-Means with k = 5 centers on a subset of characteristics\n",
      "> # Note: This demo runs H2O on localhost:54321\n",
      "> library(h2o)\n",
      "\n",
      "> h2o.init()\n",
      " Connection successful!\n",
      "\n",
      "R is connected to the H2O cluster: \n",
      "    H2O cluster uptime:         3 days 6 hours \n",
      "    H2O cluster timezone:       Asia/Kolkata \n",
      "    H2O data parsing timezone:  UTC \n",
      "    H2O cluster version:        3.34.0.4 \n",
      "    H2O cluster version age:    14 days, 20 hours and 33 minutes  \n",
      "    H2O cluster name:           H2O_started_from_R_harsh_lqz504 \n",
      "    H2O cluster total nodes:    1 \n",
      "    H2O cluster total memory:   1.53 GB \n",
      "    H2O cluster total cores:    8 \n",
      "    H2O cluster allowed cores:  8 \n",
      "    H2O cluster healthy:        TRUE \n",
      "    H2O Connection ip:          localhost \n",
      "    H2O Connection port:        54321 \n",
      "    H2O Connection proxy:       NA \n",
      "    H2O Internal Security:      FALSE \n",
      "    H2O API Extensions:         Amazon S3, Algos, AutoML, Core V3, TargetEncoder, Core V4 \n",
      "    R Version:                  R version 3.6.1 (2019-07-05) \n",
      "\n",
      "\n",
      "> prostate.hex = h2o.uploadFile(path = system.file(\"extdata\", \"prostate.csv\", package=\"h2o\"), destination_frame = \"prostate\")\n",
      "  |======================================================================| 100%\n",
      "\n",
      "> summary(prostate.hex)\n"
     ]
    },
    {
     "name": "stderr",
     "output_type": "stream",
     "text": [
      "Warning message in summary.H2OFrame(prostate.hex):\n",
      "\"Approximated quantiles computed! If you are interested in exact quantiles, please pass the `exact_quantiles=TRUE` parameter.\""
     ]
    },
    {
     "name": "stdout",
     "output_type": "stream",
     "text": [
      " ID               CAPSULE          AGE             RACE           \n",
      " Min.   :  1.00   Min.   :0.0000   Min.   :43.00   Min.   :0.000  \n",
      " 1st Qu.: 95.75   1st Qu.:0.0000   1st Qu.:62.00   1st Qu.:1.000  \n",
      " Median :190.50   Median :0.0000   Median :67.00   Median :1.000  \n",
      " Mean   :190.50   Mean   :0.4026   Mean   :66.04   Mean   :1.087  \n",
      " 3rd Qu.:285.25   3rd Qu.:1.0000   3rd Qu.:71.00   3rd Qu.:1.000  \n",
      " Max.   :380.00   Max.   :1.0000   Max.   :79.00   Max.   :2.000  \n",
      " DPROS           DCAPS           PSA               VOL            \n",
      " Min.   :1.000   Min.   :1.000   Min.   :  0.300   Min.   : 0.00  \n",
      " 1st Qu.:1.000   1st Qu.:1.000   1st Qu.:  4.900   1st Qu.: 0.00  \n",
      " Median :2.000   Median :1.000   Median :  8.664   Median :14.20  \n",
      " Mean   :2.271   Mean   :1.108   Mean   : 15.409   Mean   :15.81  \n",
      " 3rd Qu.:3.000   3rd Qu.:1.000   3rd Qu.: 17.063   3rd Qu.:26.40  \n",
      " Max.   :4.000   Max.   :2.000   Max.   :139.700   Max.   :97.60  \n",
      " GLEASON        \n",
      " Min.   :0.000  \n",
      " 1st Qu.:6.000  \n",
      " Median :6.000  \n",
      " Mean   :6.384  \n",
      " 3rd Qu.:7.000  \n",
      " Max.   :9.000  \n",
      "\n",
      "> prostate.km = h2o.kmeans(prostate.hex, k = 10, x = c(\"AGE\",\"RACE\",\"GLEASON\",\"CAPSULE\",\"DCAPS\"))\n",
      "  |======================================================================| 100%\n",
      "\n",
      "> print(prostate.km)\n",
      "Model Details:\n",
      "==============\n",
      "\n",
      "H2OClusteringModel: kmeans\n",
      "Model ID:  KMeans_model_R_1638149095112_2 \n",
      "Model Summary: \n",
      "  number_of_rows number_of_clusters number_of_categorical_columns\n",
      "1            380                 10                             0\n",
      "  number_of_iterations within_cluster_sum_of_squares total_sum_of_squares\n",
      "1                    7                     516.19650           1895.00000\n",
      "  between_cluster_sum_of_squares\n",
      "1                     1378.80350\n",
      "\n",
      "\n",
      "H2OClusteringMetrics: kmeans\n",
      "** Reported on training data. **\n",
      "\n",
      "\n",
      "Total Within SS:  516.1965\n",
      "Between SS:  1378.803\n",
      "Total SS:  1895 \n",
      "Centroid Statistics: \n",
      "   centroid      size within_cluster_sum_of_squares\n",
      "1         1 109.00000                     182.54941\n",
      "2         2   2.00000                       0.04695\n",
      "3         3   1.00000                       0.00000\n",
      "4         4   6.00000                      10.15081\n",
      "5         5   2.00000                       5.89369\n",
      "6         6  72.00000                      60.35530\n",
      "7         7 124.00000                     120.40527\n",
      "8         8  30.00000                      82.95187\n",
      "9         9   7.00000                      12.93935\n",
      "10       10  27.00000                      40.90384\n",
      "\n",
      "\n",
      "\n",
      "\n",
      "> prostate.data = as.data.frame(prostate.hex)\n",
      "\n",
      "> # prostate.clus = as.data.frame(prostate.km@model$cluster)\n",
      "> \n",
      "> # Plot categorized data\n",
      "> # if(!\"fpc\" %in% rownames(installed.packages())) install.packages(\"fpc\")\n",
      "> # if(\"fpc\" %in% rownames(installed.packages())) {\n",
      "> #  library(fpc)\n",
      "> \n",
      "> #  par(mfrow=c(1,1))\n",
      "> #  plotcluster(prostate.data, prostate.clus[,1])\n",
      "> #  title(\"K-Means Classification for k = 10\")\n",
      "> # }\n",
      "> \n",
      "> # if(!\"cluster\" %in% rownames(installed.packages())) install.packages(\"cluster\")\n",
      "> # if(\"cluster\" %in% rownames(installed.packages())) {\n",
      "> #  library(cluster)\n",
      "> #  clusplot(prostate.data, prostate.clus[,1], color = TRUE, shade = TRUE)\n",
      "> # }\n",
      "> # pairs(prostate.data[,c(2,3,7,8)], col=prostate.clus[,1])\n",
      "> \n",
      "> # Plot k-means centers\n",
      "> par(mfrow = c(1,2))\n",
      "\n",
      "> prostate.ctrs = as.data.frame(prostate.km@model$centers)\n",
      "\n",
      "> plot(prostate.ctrs[,1:2])\n",
      "\n",
      "> plot(prostate.ctrs[,3:4])\n",
      "\n",
      "> title(\"K-Means Centers for k = 10\", outer = TRUE, line = -2.0)\n"
     ]
    },
    {
     "data": {
      "image/png": "[encoded data removed]",
      "text/plain": [
       "Plot with title \"K-Means Centers for k = 10\""
      ]
     },
     "metadata": {},
     "output_type": "display_data"
    }
   ],
   "source": [
    "library(h2o)\n",
    "localH2O = h2o.init()\n",
    "demo(h2o.kmeans)"
   ]
  },
  {
   "cell_type": "code",
   "execution_count": 20,
   "metadata": {
    "scrolled": true
   },
   "outputs": [
    {
     "name": "stdout",
     "output_type": "stream",
     "text": [
      " Connection successful!\n",
      "\n",
      "R is connected to the H2O cluster: \n",
      "    H2O cluster uptime:         3 days 6 hours \n",
      "    H2O cluster timezone:       Asia/Kolkata \n",
      "    H2O data parsing timezone:  UTC \n",
      "    H2O cluster version:        3.34.0.4 \n",
      "    H2O cluster version age:    14 days, 20 hours and 33 minutes  \n",
      "    H2O cluster name:           H2O_started_from_R_harsh_lqz504 \n",
      "    H2O cluster total nodes:    1 \n",
      "    H2O cluster total memory:   1.53 GB \n",
      "    H2O cluster total cores:    8 \n",
      "    H2O cluster allowed cores:  8 \n",
      "    H2O cluster healthy:        TRUE \n",
      "    H2O Connection ip:          localhost \n",
      "    H2O Connection port:        54321 \n",
      "    H2O Connection proxy:       NA \n",
      "    H2O Internal Security:      FALSE \n",
      "    H2O API Extensions:         Amazon S3, Algos, AutoML, Core V3, TargetEncoder, Core V4 \n",
      "    R Version:                  R version 3.6.1 (2019-07-05) \n",
      "\n"
     ]
    }
   ],
   "source": [
    "h2o.init(nthreads = -1)"
   ]
  },
  {
   "cell_type": "markdown",
   "metadata": {},
   "source": [
    "### R code snippet for training the Autoencoder"
   ]
  },
  {
   "cell_type": "code",
   "execution_count": 21,
   "metadata": {},
   "outputs": [
    {
     "name": "stdout",
     "output_type": "stream",
     "text": [
      "  |======================================================================| 100%\n"
     ]
    }
   ],
   "source": [
    "data<-trainSet[,-116]\n",
    "trainH2o<-as.h2o(data, destination_frame=\"trainH2o.hex\")"
   ]
  },
  {
   "cell_type": "markdown",
   "metadata": {},
   "source": [
    "### Building a deep autoencoder learning model using trainH2o"
   ]
  },
  {
   "cell_type": "code",
   "execution_count": 22,
   "metadata": {},
   "outputs": [
    {
     "name": "stdout",
     "output_type": "stream",
     "text": [
      "  |======================================================================| 100%\n"
     ]
    }
   ],
   "source": [
    "train.IoT <- h2o.deeplearning(x = names(trainH2o), training_frame = trainH2o, activation = \"Tanh\", autoencoder = TRUE, hidden = c(50,2,50), l1 = 1e-4, epochs = 100, variable_importances=T, model_id = \"train.IoT\", reproducible = TRUE, ignore_const_cols = FALSE, seed = 123)"
   ]
  },
  {
   "cell_type": "code",
   "execution_count": 23,
   "metadata": {},
   "outputs": [
    {
     "data": {
      "text/html": [
       "'C:\\\\Users\\\\harsh\\\\Desktop\\\\DISASTER RECOVERY\\\\train.IoT\\\\train.IoT'"
      ],
      "text/latex": [
       "'C:\\textbackslash{}\\textbackslash{}Users\\textbackslash{}\\textbackslash{}harsh\\textbackslash{}\\textbackslash{}Desktop\\textbackslash{}\\textbackslash{}DISASTER RECOVERY\\textbackslash{}\\textbackslash{}train.IoT\\textbackslash{}\\textbackslash{}train.IoT'"
      ],
      "text/markdown": [
       "'C:\\\\Users\\\\harsh\\\\Desktop\\\\DISASTER RECOVERY\\\\train.IoT\\\\train.IoT'"
      ],
      "text/plain": [
       "[1] \"C:\\\\Users\\\\harsh\\\\Desktop\\\\DISASTER RECOVERY\\\\train.IoT\\\\train.IoT\""
      ]
     },
     "metadata": {},
     "output_type": "display_data"
    }
   ],
   "source": [
    "h2o.saveModel(train.IoT, path=\"train.IoT\", force = TRUE)"
   ]
  },
  {
   "cell_type": "code",
   "execution_count": 24,
   "metadata": {},
   "outputs": [],
   "source": [
    "train.IoT <- h2o.loadModel(\"./train.IoT/train.IoT\")"
   ]
  },
  {
   "cell_type": "code",
   "execution_count": 25,
   "metadata": {},
   "outputs": [
    {
     "data": {
      "text/plain": [
       "Model Details:\n",
       "==============\n",
       "\n",
       "H2OAutoEncoderModel: deeplearning\n",
       "Model ID:  train.IoT \n",
       "Status of Neuron Layers: auto-encoder, gaussian distribution, Quadratic loss, 11,917 weights/biases, 161.7 KB, 3,963,900 training samples, mini-batch size 1\n",
       "  layer units  type dropout       l1       l2 mean_rate rate_rms momentum\n",
       "1     1   115 Input  0.00 %       NA       NA        NA       NA       NA\n",
       "2     2    50  Tanh  0.00 % 0.000100 0.000000  0.924003 0.214013 0.000000\n",
       "3     3     2  Tanh  0.00 % 0.000100 0.000000  0.918412 0.227361 0.000000\n",
       "4     4    50  Tanh  0.00 % 0.000100 0.000000  0.899792 0.256023 0.000000\n",
       "5     5   115  Tanh      NA 0.000100 0.000000  0.901002 0.249853 0.000000\n",
       "  mean_weight weight_rms mean_bias bias_rms\n",
       "1          NA         NA        NA       NA\n",
       "2   -0.000173   0.035789 -0.027397 0.115609\n",
       "3    0.026441   0.400408 -0.032157 0.024326\n",
       "4   -0.061525   0.535149 -0.086027 0.426728\n",
       "5   -0.001098   0.028127 -0.003867 0.074852\n",
       "\n",
       "\n",
       "H2OAutoEncoderMetrics: deeplearning\n",
       "** Reported on training data. **\n",
       "\n",
       "Training Set Metrics: \n",
       "=====================\n",
       "\n",
       "MSE: (Extract with `h2o.mse`) 0.0009720814\n",
       "RMSE: (Extract with `h2o.rmse`) 0.03117822\n",
       "\n",
       "\n",
       "\n",
       "\n"
      ]
     },
     "metadata": {},
     "output_type": "display_data"
    }
   ],
   "source": [
    "train.IoT"
   ]
  },
  {
   "cell_type": "markdown",
   "metadata": {},
   "source": [
    "### Function to detect anomalies in a dataset. "
   ]
  },
  {
   "cell_type": "code",
   "execution_count": 26,
   "metadata": {},
   "outputs": [],
   "source": [
    "train.anon = h2o.anomaly(train.IoT, trainH2o, per_feature=FALSE)"
   ]
  },
  {
   "cell_type": "code",
   "execution_count": 27,
   "metadata": {},
   "outputs": [
    {
     "data": {
      "text/html": [
       "<table>\n",
       "<thead><tr><th scope=col>Reconstruction.MSE</th></tr></thead>\n",
       "<tbody>\n",
       "\t<tr><td>0.16025079</td></tr>\n",
       "\t<tr><td>0.18515796</td></tr>\n",
       "\t<tr><td>0.18854536</td></tr>\n",
       "\t<tr><td>0.16933260</td></tr>\n",
       "\t<tr><td>0.08308816</td></tr>\n",
       "\t<tr><td>0.05741040</td></tr>\n",
       "</tbody>\n",
       "</table>\n"
      ],
      "text/latex": [
       "\\begin{tabular}{r|l}\n",
       " Reconstruction.MSE\\\\\n",
       "\\hline\n",
       "\t 0.16025079\\\\\n",
       "\t 0.18515796\\\\\n",
       "\t 0.18854536\\\\\n",
       "\t 0.16933260\\\\\n",
       "\t 0.08308816\\\\\n",
       "\t 0.05741040\\\\\n",
       "\\end{tabular}\n"
      ],
      "text/markdown": [
       "\n",
       "Reconstruction.MSE | \n",
       "|---|---|---|---|---|---|\n",
       "| 0.16025079 | \n",
       "| 0.18515796 | \n",
       "| 0.18854536 | \n",
       "| 0.16933260 | \n",
       "| 0.08308816 | \n",
       "| 0.05741040 | \n",
       "\n",
       "\n"
      ],
      "text/plain": [
       "  Reconstruction.MSE\n",
       "1 0.16025079        \n",
       "2 0.18515796        \n",
       "3 0.18854536        \n",
       "4 0.16933260        \n",
       "5 0.08308816        \n",
       "6 0.05741040        "
      ]
     },
     "metadata": {},
     "output_type": "display_data"
    }
   ],
   "source": [
    "head(train.anon) "
   ]
  },
  {
   "cell_type": "code",
   "execution_count": 29,
   "metadata": {},
   "outputs": [],
   "source": [
    "err <- as.data.frame(train.anon)"
   ]
  },
  {
   "cell_type": "code",
   "execution_count": 30,
   "metadata": {},
   "outputs": [
    {
     "data": {
      "image/png": "[encoded data removed]",
      "text/plain": [
       "Plot with title \"Reconstruction Error\""
      ]
     },
     "metadata": {},
     "output_type": "display_data"
    }
   ],
   "source": [
    "plot(sort(err[,1]), main='Reconstruction Error',xlab=\"Row index\", ylab=\"Reconstruction.MSE\",col=\"orange\")"
   ]
  },
  {
   "cell_type": "markdown",
   "metadata": {},
   "source": [
    "### Define the threshold based on Reconstruction.MSE of training"
   ]
  },
  {
   "cell_type": "code",
   "execution_count": 31,
   "metadata": {},
   "outputs": [],
   "source": [
    "threshold<-0.02"
   ]
  },
  {
   "cell_type": "code",
   "execution_count": 33,
   "metadata": {},
   "outputs": [],
   "source": [
    "train.IoT <- h2o.loadModel(\"./train.IoT/train.IoT\")"
   ]
  },
  {
   "cell_type": "code",
   "execution_count": 36,
   "metadata": {},
   "outputs": [],
   "source": [
    "testH2o<-as.h2o(data, destination_frame=\"trainH2o.hex\") "
   ]
  },
  {
   "cell_type": "code",
   "execution_count": 37,
   "metadata": {},
   "outputs": [],
   "source": [
    "data<-newtestSet[,-116]"
   ]
  },
  {
   "cell_type": "code",
   "execution_count": 38,
   "metadata": {},
   "outputs": [
    {
     "name": "stdout",
     "output_type": "stream",
     "text": [
      "  |======================================================================| 100%\n"
     ]
    }
   ],
   "source": [
    "testH2o<-as.h2o(data, destination_frame=\"trainH2o.hex\") "
   ]
  },
  {
   "cell_type": "code",
   "execution_count": 39,
   "metadata": {},
   "outputs": [],
   "source": [
    "test.anon = h2o.anomaly(train.IoT,testH2o, per_feature=FALSE) "
   ]
  },
  {
   "cell_type": "code",
   "execution_count": 40,
   "metadata": {},
   "outputs": [],
   "source": [
    "err <- as.data.frame(test.anon)"
   ]
  },
  {
   "cell_type": "markdown",
   "metadata": {},
   "source": [
    "### Model evaluation"
   ]
  },
  {
   "cell_type": "code",
   "execution_count": 41,
   "metadata": {},
   "outputs": [],
   "source": [
    "prediction <- err$Reconstruction.MSE<=threshold"
   ]
  },
  {
   "cell_type": "code",
   "execution_count": 42,
   "metadata": {},
   "outputs": [
    {
     "data": {
      "text/plain": [
       "Confusion Matrix and Statistics\n",
       "\n",
       "          Reference\n",
       "Prediction  FALSE   TRUE\n",
       "     FALSE 483435     20\n",
       "     TRUE       0   4959\n",
       "                                     \n",
       "               Accuracy : 1          \n",
       "                 95% CI : (0.9999, 1)\n",
       "    No Information Rate : 0.9898     \n",
       "    P-Value [Acc > NIR] : < 2.2e-16  \n",
       "                                     \n",
       "                  Kappa : 0.998      \n",
       " Mcnemar's Test P-Value : 2.152e-05  \n",
       "                                     \n",
       "            Sensitivity : 1.0000     \n",
       "            Specificity : 0.9960     \n",
       "         Pos Pred Value : 1.0000     \n",
       "         Neg Pred Value : 1.0000     \n",
       "             Prevalence : 0.9898     \n",
       "         Detection Rate : 0.9898     \n",
       "   Detection Prevalence : 0.9898     \n",
       "      Balanced Accuracy : 0.9980     \n",
       "                                     \n",
       "       'Positive' Class : FALSE      \n",
       "                                     "
      ]
     },
     "metadata": {},
     "output_type": "display_data"
    }
   ],
   "source": [
    "confusionMatrix(data=as.factor(prediction),reference=as.factor(newtestSet$Type)) "
   ]
  }
 ],
 "metadata": {
  "kernelspec": {
   "display_name": "R",
   "language": "R",
   "name": "ir"
  },
  "language_info": {
   "codemirror_mode": "r",
   "file_extension": ".r",
   "mimetype": "text/x-r-source",
   "name": "R",
   "pygments_lexer": "r",
   "version": "3.6.1"
  }
 },
 "nbformat": 4,
 "nbformat_minor": 4
}
